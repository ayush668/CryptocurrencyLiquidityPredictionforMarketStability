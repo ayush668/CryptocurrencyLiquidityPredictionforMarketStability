{
 "cells": [
  {
   "cell_type": "markdown",
   "id": "bb0aad62-4549-492f-842a-f8260a7a1f9f",
   "metadata": {},
   "source": [
    "#Cryptocurrency Liquidity Prediction for Market Stability\n"
   ]
  },
  {
   "cell_type": "markdown",
   "id": "0f6545df-3c20-4cc6-8180-271dcb5ffe66",
   "metadata": {},
   "source": [
    "Life cycle of Machine learning Project"
   ]
  },
  {
   "cell_type": "markdown",
   "id": "fdf0eb3d-46cd-4c7b-9990-adaa10e04774",
   "metadata": {},
   "source": [
    "Understanding the Problem Statement:\n",
    "Data Collection\n",
    "Data Cleaning\n",
    "Exploratory data analysis\n",
    "Data Pre-Processing\n",
    "Model Training\n",
    "Choose best model"
   ]
  },
  {
   "cell_type": "markdown",
   "id": "5bf33064-f415-4d87-9735-2fba5acf070b",
   "metadata": {},
   "source": [
    "1) Problem statement."
   ]
  },
  {
   "cell_type": "markdown",
   "id": "ffbea490-a459-4b78-afdd-720aca4d84d7",
   "metadata": {},
   "source": [
    "XYZ Company wants to expand its customer base.\n",
    "\n",
    "One approach is to introduce new packages based on customer personalities.\n",
    "\n",
    "The company aims to segment customers using data such as purchase patterns, engagement, and demographics.\n",
    "\n",
    "A machine learning model will be built to identify different customer segments.\n",
    "\n",
    "The goal is to release relevant offers for each segment.\n",
    "\n",
    "This will help increase customer satisfaction and support business growth.\n",
    "\n"
   ]
  },
  {
   "cell_type": "markdown",
   "id": "e273a9b1-2c44-4c27-835f-aad88fb1c7dd",
   "metadata": {},
   "source": [
    "2. Data Collection"
   ]
  },
  {
   "cell_type": "markdown",
   "id": "8a32db34-e184-46a3-bc0d-f190d827a31e",
   "metadata": {},
   "source": [
    "The dataset is downloaded from :\n",
    "https://drive.google.com/drive/folders/10BRgPip2Zj_56is3DilJCowjfyT6E9AM"
   ]
  },
  {
   "cell_type": "markdown",
   "id": "63d159dc-22bb-4802-8a29-1d3bac914db5",
   "metadata": {},
   "source": [
    "2.1 Import Data and Required Packages\n",
    "Importing Pandas, Numpy, Matplotlib, Seaborn and Warings Library."
   ]
  },
  {
   "cell_type": "code",
   "execution_count": 23,
   "id": "4ccb8930-6e11-4c3d-8765-d86bc7d9d6b8",
   "metadata": {},
   "outputs": [],
   "source": [
    "import pandas as pd\n",
    "\n",
    "# Load both Excel files\n",
    "df1 = pd.read_csv('coin_gecko_2022-03-17.csv')\n",
    "df2 = pd.read_csv('coin_gecko_2022-03-16.csv')\n",
    "\n",
    "# Combine dataframes (append rows)\n",
    "combined_df = pd.concat([df1, df2], ignore_index=True)\n",
    "\n",
    "# Save combined data to a new Excel file\n",
    "combined_df.to_csv('coin_gecko_combined.csv', index=False)\n"
   ]
  },
  {
   "cell_type": "code",
   "execution_count": 24,
   "id": "750b0c3f-be67-4269-9392-b2a16853ec40",
   "metadata": {},
   "outputs": [],
   "source": [
    "df= pd.read_csv('coin_gecko_combined.csv')"
   ]
  },
  {
   "cell_type": "code",
   "execution_count": 25,
   "id": "35b24260-4443-44ef-8bd9-f84c6eba8a2f",
   "metadata": {},
   "outputs": [
    {
     "data": {
      "text/html": [
       "<div>\n",
       "<style scoped>\n",
       "    .dataframe tbody tr th:only-of-type {\n",
       "        vertical-align: middle;\n",
       "    }\n",
       "\n",
       "    .dataframe tbody tr th {\n",
       "        vertical-align: top;\n",
       "    }\n",
       "\n",
       "    .dataframe thead th {\n",
       "        text-align: right;\n",
       "    }\n",
       "</style>\n",
       "<table border=\"1\" class=\"dataframe\">\n",
       "  <thead>\n",
       "    <tr style=\"text-align: right;\">\n",
       "      <th></th>\n",
       "      <th>coin</th>\n",
       "      <th>symbol</th>\n",
       "      <th>price</th>\n",
       "      <th>1h</th>\n",
       "      <th>24h</th>\n",
       "      <th>7d</th>\n",
       "      <th>24h_volume</th>\n",
       "      <th>mkt_cap</th>\n",
       "      <th>date</th>\n",
       "    </tr>\n",
       "  </thead>\n",
       "  <tbody>\n",
       "    <tr>\n",
       "      <th>0</th>\n",
       "      <td>Bitcoin</td>\n",
       "      <td>BTC</td>\n",
       "      <td>40851.380000</td>\n",
       "      <td>0.001</td>\n",
       "      <td>0.000</td>\n",
       "      <td>-0.027</td>\n",
       "      <td>2.047612e+10</td>\n",
       "      <td>7.760770e+11</td>\n",
       "      <td>3/17/2022</td>\n",
       "    </tr>\n",
       "    <tr>\n",
       "      <th>1</th>\n",
       "      <td>Ethereum</td>\n",
       "      <td>ETH</td>\n",
       "      <td>2824.420000</td>\n",
       "      <td>0.004</td>\n",
       "      <td>0.029</td>\n",
       "      <td>0.034</td>\n",
       "      <td>1.364041e+10</td>\n",
       "      <td>3.390770e+11</td>\n",
       "      <td>3/17/2022</td>\n",
       "    </tr>\n",
       "    <tr>\n",
       "      <th>2</th>\n",
       "      <td>Tether</td>\n",
       "      <td>USDT</td>\n",
       "      <td>1.000000</td>\n",
       "      <td>0.000</td>\n",
       "      <td>0.000</td>\n",
       "      <td>0.000</td>\n",
       "      <td>4.413140e+10</td>\n",
       "      <td>8.020588e+10</td>\n",
       "      <td>3/17/2022</td>\n",
       "    </tr>\n",
       "    <tr>\n",
       "      <th>3</th>\n",
       "      <td>BNB</td>\n",
       "      <td>BNB</td>\n",
       "      <td>389.610000</td>\n",
       "      <td>0.002</td>\n",
       "      <td>0.016</td>\n",
       "      <td>-0.010</td>\n",
       "      <td>1.425354e+09</td>\n",
       "      <td>6.556116e+10</td>\n",
       "      <td>3/17/2022</td>\n",
       "    </tr>\n",
       "    <tr>\n",
       "      <th>4</th>\n",
       "      <td>USD Coin</td>\n",
       "      <td>USDC</td>\n",
       "      <td>0.999739</td>\n",
       "      <td>-0.001</td>\n",
       "      <td>0.000</td>\n",
       "      <td>0.000</td>\n",
       "      <td>3.569816e+09</td>\n",
       "      <td>5.259607e+10</td>\n",
       "      <td>3/17/2022</td>\n",
       "    </tr>\n",
       "  </tbody>\n",
       "</table>\n",
       "</div>"
      ],
      "text/plain": [
       "       coin symbol         price     1h    24h     7d    24h_volume  \\\n",
       "0   Bitcoin    BTC  40851.380000  0.001  0.000 -0.027  2.047612e+10   \n",
       "1  Ethereum    ETH   2824.420000  0.004  0.029  0.034  1.364041e+10   \n",
       "2    Tether   USDT      1.000000  0.000  0.000  0.000  4.413140e+10   \n",
       "3       BNB    BNB    389.610000  0.002  0.016 -0.010  1.425354e+09   \n",
       "4  USD Coin   USDC      0.999739 -0.001  0.000  0.000  3.569816e+09   \n",
       "\n",
       "        mkt_cap       date  \n",
       "0  7.760770e+11  3/17/2022  \n",
       "1  3.390770e+11  3/17/2022  \n",
       "2  8.020588e+10  3/17/2022  \n",
       "3  6.556116e+10  3/17/2022  \n",
       "4  5.259607e+10  3/17/2022  "
      ]
     },
     "execution_count": 25,
     "metadata": {},
     "output_type": "execute_result"
    }
   ],
   "source": [
    "df.head()"
   ]
  },
  {
   "cell_type": "code",
   "execution_count": 26,
   "id": "3fb6d35d-4b55-415a-9823-0b46c4221cd3",
   "metadata": {},
   "outputs": [
    {
     "data": {
      "text/plain": [
       "coin           object\n",
       "symbol         object\n",
       "price         float64\n",
       "1h            float64\n",
       "24h           float64\n",
       "7d            float64\n",
       "24h_volume    float64\n",
       "mkt_cap       float64\n",
       "date           object\n",
       "dtype: object"
      ]
     },
     "execution_count": 26,
     "metadata": {},
     "output_type": "execute_result"
    }
   ],
   "source": [
    "df.dtypes"
   ]
  },
  {
   "cell_type": "code",
   "execution_count": 27,
   "id": "b3770c56-d3de-4d21-83aa-6fd0a505a8cb",
   "metadata": {},
   "outputs": [
    {
     "data": {
      "text/plain": [
       "(1000, 9)"
      ]
     },
     "execution_count": 27,
     "metadata": {},
     "output_type": "execute_result"
    }
   ],
   "source": [
    "df.shape"
   ]
  },
  {
   "cell_type": "markdown",
   "id": "295950b6-893d-439f-b543-471ec83e3791",
   "metadata": {},
   "source": [
    "Summary of the dataset"
   ]
  },
  {
   "cell_type": "code",
   "execution_count": 28,
   "id": "05f36423-811c-4692-8157-1b5477132047",
   "metadata": {},
   "outputs": [
    {
     "data": {
      "text/html": [
       "<div>\n",
       "<style scoped>\n",
       "    .dataframe tbody tr th:only-of-type {\n",
       "        vertical-align: middle;\n",
       "    }\n",
       "\n",
       "    .dataframe tbody tr th {\n",
       "        vertical-align: top;\n",
       "    }\n",
       "\n",
       "    .dataframe thead th {\n",
       "        text-align: right;\n",
       "    }\n",
       "</style>\n",
       "<table border=\"1\" class=\"dataframe\">\n",
       "  <thead>\n",
       "    <tr style=\"text-align: right;\">\n",
       "      <th></th>\n",
       "      <th>price</th>\n",
       "      <th>1h</th>\n",
       "      <th>24h</th>\n",
       "      <th>7d</th>\n",
       "      <th>24h_volume</th>\n",
       "      <th>mkt_cap</th>\n",
       "    </tr>\n",
       "  </thead>\n",
       "  <tbody>\n",
       "    <tr>\n",
       "      <th>count</th>\n",
       "      <td>1.000000e+03</td>\n",
       "      <td>993.000000</td>\n",
       "      <td>993.000000</td>\n",
       "      <td>992.000000</td>\n",
       "      <td>9.930000e+02</td>\n",
       "      <td>1.000000e+03</td>\n",
       "    </tr>\n",
       "    <tr>\n",
       "      <th>mean</th>\n",
       "      <td>6.561060e+02</td>\n",
       "      <td>0.009723</td>\n",
       "      <td>0.023737</td>\n",
       "      <td>0.023558</td>\n",
       "      <td>2.893109e+08</td>\n",
       "      <td>3.755303e+09</td>\n",
       "    </tr>\n",
       "    <tr>\n",
       "      <th>std</th>\n",
       "      <td>4.584655e+03</td>\n",
       "      <td>0.026934</td>\n",
       "      <td>0.059303</td>\n",
       "      <td>0.229781</td>\n",
       "      <td>2.769908e+09</td>\n",
       "      <td>3.803780e+10</td>\n",
       "    </tr>\n",
       "    <tr>\n",
       "      <th>min</th>\n",
       "      <td>1.480000e-09</td>\n",
       "      <td>-0.704000</td>\n",
       "      <td>-0.646000</td>\n",
       "      <td>-0.558000</td>\n",
       "      <td>0.000000e+00</td>\n",
       "      <td>6.577043e+07</td>\n",
       "    </tr>\n",
       "    <tr>\n",
       "      <th>25%</th>\n",
       "      <td>1.940547e-01</td>\n",
       "      <td>0.001000</td>\n",
       "      <td>0.001000</td>\n",
       "      <td>-0.041000</td>\n",
       "      <td>1.766976e+06</td>\n",
       "      <td>1.157776e+08</td>\n",
       "    </tr>\n",
       "    <tr>\n",
       "      <th>50%</th>\n",
       "      <td>1.095000e+00</td>\n",
       "      <td>0.006000</td>\n",
       "      <td>0.016000</td>\n",
       "      <td>-0.000500</td>\n",
       "      <td>8.343005e+06</td>\n",
       "      <td>2.120036e+08</td>\n",
       "    </tr>\n",
       "    <tr>\n",
       "      <th>75%</th>\n",
       "      <td>7.232500e+00</td>\n",
       "      <td>0.019000</td>\n",
       "      <td>0.035000</td>\n",
       "      <td>0.037000</td>\n",
       "      <td>4.003652e+07</td>\n",
       "      <td>5.948436e+08</td>\n",
       "    </tr>\n",
       "    <tr>\n",
       "      <th>max</th>\n",
       "      <td>4.121727e+04</td>\n",
       "      <td>0.095000</td>\n",
       "      <td>0.577000</td>\n",
       "      <td>4.608000</td>\n",
       "      <td>5.793497e+10</td>\n",
       "      <td>7.760770e+11</td>\n",
       "    </tr>\n",
       "  </tbody>\n",
       "</table>\n",
       "</div>"
      ],
      "text/plain": [
       "              price          1h         24h          7d    24h_volume  \\\n",
       "count  1.000000e+03  993.000000  993.000000  992.000000  9.930000e+02   \n",
       "mean   6.561060e+02    0.009723    0.023737    0.023558  2.893109e+08   \n",
       "std    4.584655e+03    0.026934    0.059303    0.229781  2.769908e+09   \n",
       "min    1.480000e-09   -0.704000   -0.646000   -0.558000  0.000000e+00   \n",
       "25%    1.940547e-01    0.001000    0.001000   -0.041000  1.766976e+06   \n",
       "50%    1.095000e+00    0.006000    0.016000   -0.000500  8.343005e+06   \n",
       "75%    7.232500e+00    0.019000    0.035000    0.037000  4.003652e+07   \n",
       "max    4.121727e+04    0.095000    0.577000    4.608000  5.793497e+10   \n",
       "\n",
       "            mkt_cap  \n",
       "count  1.000000e+03  \n",
       "mean   3.755303e+09  \n",
       "std    3.803780e+10  \n",
       "min    6.577043e+07  \n",
       "25%    1.157776e+08  \n",
       "50%    2.120036e+08  \n",
       "75%    5.948436e+08  \n",
       "max    7.760770e+11  "
      ]
     },
     "execution_count": 28,
     "metadata": {},
     "output_type": "execute_result"
    }
   ],
   "source": [
    "# Display summary statistics for a dataframe\n",
    "df.describe()"
   ]
  },
  {
   "cell_type": "code",
   "execution_count": 29,
   "id": "f9cf152f-cf42-496e-9c89-2a83afeccd5b",
   "metadata": {},
   "outputs": [
    {
     "data": {
      "text/plain": [
       "coin          0\n",
       "symbol        0\n",
       "price         0\n",
       "1h            7\n",
       "24h           7\n",
       "7d            8\n",
       "24h_volume    7\n",
       "mkt_cap       0\n",
       "date          0\n",
       "dtype: int64"
      ]
     },
     "execution_count": 29,
     "metadata": {},
     "output_type": "execute_result"
    }
   ],
   "source": [
    "df.isnull().sum()"
   ]
  },
  {
   "cell_type": "code",
   "execution_count": 30,
   "id": "72ddde85-fe87-4895-b006-8fc6a83a5d51",
   "metadata": {},
   "outputs": [
    {
     "data": {
      "text/plain": [
       "coin          0\n",
       "symbol        0\n",
       "price         0\n",
       "1h            7\n",
       "24h           7\n",
       "7d            8\n",
       "24h_volume    7\n",
       "mkt_cap       0\n",
       "date          0\n",
       "dtype: int64"
      ]
     },
     "execution_count": 30,
     "metadata": {},
     "output_type": "execute_result"
    }
   ],
   "source": [
    "df.isna().sum()"
   ]
  },
  {
   "cell_type": "markdown",
   "id": "b7523edf-57f9-4f35-b794-01b1a014ac5b",
   "metadata": {},
   "source": [
    "\n",
    "2.Data Preprocessing\n"
   ]
  },
  {
   "cell_type": "markdown",
   "id": "6fdb7656-a4fe-4c40-be15-9924eaed1054",
   "metadata": {},
   "source": [
    "Using median as it is robust to outliers"
   ]
  },
  {
   "cell_type": "code",
   "execution_count": 31,
   "id": "1307e187-a4a6-48f4-9dfe-4daa9a033b9a",
   "metadata": {},
   "outputs": [],
   "source": [
    "import warnings\n",
    "warnings.filterwarnings('ignore')"
   ]
  },
  {
   "cell_type": "code",
   "execution_count": 32,
   "id": "0fb31734-1b01-4f2d-92ef-689153ad1804",
   "metadata": {},
   "outputs": [],
   "source": [
    "df['1h'].fillna(df['1h'].median(), inplace=True)\n",
    "df['24h'].fillna(df['24h'].median(), inplace=True)\n",
    "df['7d'].fillna(df['7d'].median(), inplace=True)\n",
    "df['24h_volume'].fillna(df['24h_volume'].median(), inplace=True)\n"
   ]
  },
  {
   "cell_type": "code",
   "execution_count": 33,
   "id": "c5ecad81-6f4a-4bc5-8262-0dfccce7eeb7",
   "metadata": {},
   "outputs": [
    {
     "data": {
      "text/plain": [
       "coin          0\n",
       "symbol        0\n",
       "price         0\n",
       "1h            0\n",
       "24h           0\n",
       "7d            0\n",
       "24h_volume    0\n",
       "mkt_cap       0\n",
       "date          0\n",
       "dtype: int64"
      ]
     },
     "execution_count": 33,
     "metadata": {},
     "output_type": "execute_result"
    }
   ],
   "source": [
    "df.isna().sum()"
   ]
  },
  {
   "cell_type": "markdown",
   "id": "761e7c36-34aa-47fa-a72e-df19b6fe4dfc",
   "metadata": {},
   "source": [
    "As I will use classification model so creating target column now .we're using quantiles to split the data:\n",
    "\n",
    "low_threshold = 33rd percentile of 24h volume\n",
    "\n",
    "high_threshold = 66th percentile of 24h volume\n",
    "\n",
    "Then you classify each row like this:\n",
    "\n",
    "Condition\tLabel\n",
    "volume < 33rd percentile\t'Low'\n",
    "33rd ≤ volume < 66th percentile\t'Medium'\n",
    "volume ≥ 66th percentile\t'High'\n",
    " Why use quantiles?\n",
    "Quantiles help divide the data into roughly equal-sized groups, which is useful for classification when there is no fixed threshold defined. It ensures your model sees a balanced distribution of classes — not too many of one and too few of another."
   ]
  },
  {
   "cell_type": "code",
   "execution_count": 34,
   "id": "7ee6b302-43c7-47bc-9926-bc0ed7ca8bdf",
   "metadata": {},
   "outputs": [],
   "source": [
    "\n",
    "\n",
    "# Define thresholds (can be adjusted after EDA)\n",
    "low_threshold = df['24h_volume'].quantile(0.33)\n",
    "high_threshold = df['24h_volume'].quantile(0.66)\n",
    "\n",
    "# Create labels based on volume\n",
    "def label_liquidity(volume):\n",
    "    if volume < low_threshold:\n",
    "        return 'Low'\n",
    "    elif volume < high_threshold:\n",
    "        return 'Medium'\n",
    "    else:\n",
    "        return 'High'\n",
    "\n",
    "df['liquidity_level'] = df['24h_volume'].apply(label_liquidity)\n"
   ]
  },
  {
   "cell_type": "code",
   "execution_count": 35,
   "id": "06bf1769-8f62-470c-b6f2-bc63e3196278",
   "metadata": {},
   "outputs": [
    {
     "data": {
      "text/html": [
       "<div>\n",
       "<style scoped>\n",
       "    .dataframe tbody tr th:only-of-type {\n",
       "        vertical-align: middle;\n",
       "    }\n",
       "\n",
       "    .dataframe tbody tr th {\n",
       "        vertical-align: top;\n",
       "    }\n",
       "\n",
       "    .dataframe thead th {\n",
       "        text-align: right;\n",
       "    }\n",
       "</style>\n",
       "<table border=\"1\" class=\"dataframe\">\n",
       "  <thead>\n",
       "    <tr style=\"text-align: right;\">\n",
       "      <th></th>\n",
       "      <th>coin</th>\n",
       "      <th>symbol</th>\n",
       "      <th>price</th>\n",
       "      <th>1h</th>\n",
       "      <th>24h</th>\n",
       "      <th>7d</th>\n",
       "      <th>24h_volume</th>\n",
       "      <th>mkt_cap</th>\n",
       "      <th>date</th>\n",
       "      <th>liquidity_level</th>\n",
       "    </tr>\n",
       "  </thead>\n",
       "  <tbody>\n",
       "    <tr>\n",
       "      <th>0</th>\n",
       "      <td>Bitcoin</td>\n",
       "      <td>BTC</td>\n",
       "      <td>40851.380000</td>\n",
       "      <td>0.001</td>\n",
       "      <td>0.000</td>\n",
       "      <td>-0.027</td>\n",
       "      <td>2.047612e+10</td>\n",
       "      <td>7.760770e+11</td>\n",
       "      <td>3/17/2022</td>\n",
       "      <td>High</td>\n",
       "    </tr>\n",
       "    <tr>\n",
       "      <th>1</th>\n",
       "      <td>Ethereum</td>\n",
       "      <td>ETH</td>\n",
       "      <td>2824.420000</td>\n",
       "      <td>0.004</td>\n",
       "      <td>0.029</td>\n",
       "      <td>0.034</td>\n",
       "      <td>1.364041e+10</td>\n",
       "      <td>3.390770e+11</td>\n",
       "      <td>3/17/2022</td>\n",
       "      <td>High</td>\n",
       "    </tr>\n",
       "    <tr>\n",
       "      <th>2</th>\n",
       "      <td>Tether</td>\n",
       "      <td>USDT</td>\n",
       "      <td>1.000000</td>\n",
       "      <td>0.000</td>\n",
       "      <td>0.000</td>\n",
       "      <td>0.000</td>\n",
       "      <td>4.413140e+10</td>\n",
       "      <td>8.020588e+10</td>\n",
       "      <td>3/17/2022</td>\n",
       "      <td>High</td>\n",
       "    </tr>\n",
       "    <tr>\n",
       "      <th>3</th>\n",
       "      <td>BNB</td>\n",
       "      <td>BNB</td>\n",
       "      <td>389.610000</td>\n",
       "      <td>0.002</td>\n",
       "      <td>0.016</td>\n",
       "      <td>-0.010</td>\n",
       "      <td>1.425354e+09</td>\n",
       "      <td>6.556116e+10</td>\n",
       "      <td>3/17/2022</td>\n",
       "      <td>High</td>\n",
       "    </tr>\n",
       "    <tr>\n",
       "      <th>4</th>\n",
       "      <td>USD Coin</td>\n",
       "      <td>USDC</td>\n",
       "      <td>0.999739</td>\n",
       "      <td>-0.001</td>\n",
       "      <td>0.000</td>\n",
       "      <td>0.000</td>\n",
       "      <td>3.569816e+09</td>\n",
       "      <td>5.259607e+10</td>\n",
       "      <td>3/17/2022</td>\n",
       "      <td>High</td>\n",
       "    </tr>\n",
       "    <tr>\n",
       "      <th>...</th>\n",
       "      <td>...</td>\n",
       "      <td>...</td>\n",
       "      <td>...</td>\n",
       "      <td>...</td>\n",
       "      <td>...</td>\n",
       "      <td>...</td>\n",
       "      <td>...</td>\n",
       "      <td>...</td>\n",
       "      <td>...</td>\n",
       "      <td>...</td>\n",
       "    </tr>\n",
       "    <tr>\n",
       "      <th>995</th>\n",
       "      <td>ARPA Chain</td>\n",
       "      <td>ARPA</td>\n",
       "      <td>0.068516</td>\n",
       "      <td>0.028</td>\n",
       "      <td>0.026</td>\n",
       "      <td>-0.008</td>\n",
       "      <td>1.483831e+07</td>\n",
       "      <td>6.689248e+07</td>\n",
       "      <td>3/16/2022</td>\n",
       "      <td>Medium</td>\n",
       "    </tr>\n",
       "    <tr>\n",
       "      <th>996</th>\n",
       "      <td>GuildFi</td>\n",
       "      <td>GF</td>\n",
       "      <td>1.540000</td>\n",
       "      <td>0.005</td>\n",
       "      <td>0.007</td>\n",
       "      <td>0.041</td>\n",
       "      <td>7.298293e+06</td>\n",
       "      <td>6.637061e+07</td>\n",
       "      <td>3/16/2022</td>\n",
       "      <td>Medium</td>\n",
       "    </tr>\n",
       "    <tr>\n",
       "      <th>997</th>\n",
       "      <td>EverRise</td>\n",
       "      <td>RISE</td>\n",
       "      <td>0.000951</td>\n",
       "      <td>0.013</td>\n",
       "      <td>0.081</td>\n",
       "      <td>0.030</td>\n",
       "      <td>4.232180e+05</td>\n",
       "      <td>6.634045e+07</td>\n",
       "      <td>3/16/2022</td>\n",
       "      <td>Low</td>\n",
       "    </tr>\n",
       "    <tr>\n",
       "      <th>998</th>\n",
       "      <td>SuperRare</td>\n",
       "      <td>RARE</td>\n",
       "      <td>0.458127</td>\n",
       "      <td>0.018</td>\n",
       "      <td>0.029</td>\n",
       "      <td>0.029</td>\n",
       "      <td>1.642138e+07</td>\n",
       "      <td>6.626426e+07</td>\n",
       "      <td>3/16/2022</td>\n",
       "      <td>Medium</td>\n",
       "    </tr>\n",
       "    <tr>\n",
       "      <th>999</th>\n",
       "      <td>Oxygen</td>\n",
       "      <td>OXY</td>\n",
       "      <td>0.325739</td>\n",
       "      <td>0.015</td>\n",
       "      <td>0.001</td>\n",
       "      <td>0.084</td>\n",
       "      <td>4.646240e+05</td>\n",
       "      <td>6.577043e+07</td>\n",
       "      <td>3/16/2022</td>\n",
       "      <td>Low</td>\n",
       "    </tr>\n",
       "  </tbody>\n",
       "</table>\n",
       "<p>1000 rows × 10 columns</p>\n",
       "</div>"
      ],
      "text/plain": [
       "           coin symbol         price     1h    24h     7d    24h_volume  \\\n",
       "0       Bitcoin    BTC  40851.380000  0.001  0.000 -0.027  2.047612e+10   \n",
       "1      Ethereum    ETH   2824.420000  0.004  0.029  0.034  1.364041e+10   \n",
       "2        Tether   USDT      1.000000  0.000  0.000  0.000  4.413140e+10   \n",
       "3           BNB    BNB    389.610000  0.002  0.016 -0.010  1.425354e+09   \n",
       "4      USD Coin   USDC      0.999739 -0.001  0.000  0.000  3.569816e+09   \n",
       "..          ...    ...           ...    ...    ...    ...           ...   \n",
       "995  ARPA Chain   ARPA      0.068516  0.028  0.026 -0.008  1.483831e+07   \n",
       "996     GuildFi     GF      1.540000  0.005  0.007  0.041  7.298293e+06   \n",
       "997    EverRise   RISE      0.000951  0.013  0.081  0.030  4.232180e+05   \n",
       "998   SuperRare   RARE      0.458127  0.018  0.029  0.029  1.642138e+07   \n",
       "999      Oxygen    OXY      0.325739  0.015  0.001  0.084  4.646240e+05   \n",
       "\n",
       "          mkt_cap       date liquidity_level  \n",
       "0    7.760770e+11  3/17/2022            High  \n",
       "1    3.390770e+11  3/17/2022            High  \n",
       "2    8.020588e+10  3/17/2022            High  \n",
       "3    6.556116e+10  3/17/2022            High  \n",
       "4    5.259607e+10  3/17/2022            High  \n",
       "..            ...        ...             ...  \n",
       "995  6.689248e+07  3/16/2022          Medium  \n",
       "996  6.637061e+07  3/16/2022          Medium  \n",
       "997  6.634045e+07  3/16/2022             Low  \n",
       "998  6.626426e+07  3/16/2022          Medium  \n",
       "999  6.577043e+07  3/16/2022             Low  \n",
       "\n",
       "[1000 rows x 10 columns]"
      ]
     },
     "execution_count": 35,
     "metadata": {},
     "output_type": "execute_result"
    }
   ],
   "source": [
    "df"
   ]
  },
  {
   "cell_type": "code",
   "execution_count": 36,
   "id": "c1fdc34d-72e0-477d-815c-8d15b6ef1716",
   "metadata": {},
   "outputs": [],
   "source": [
    "df.to_csv('coin_gecko_labeled.csv', index=False)\n"
   ]
  },
  {
   "cell_type": "markdown",
   "id": "f68c354b-3043-4c5f-90fe-28086de440ee",
   "metadata": {},
   "source": [
    "Normalisation:"
   ]
  },
  {
   "cell_type": "markdown",
   "id": "9a1ba32b-2390-41c0-aa35-0b5c7c7e097c",
   "metadata": {},
   "source": [
    "Use log transformation on features like 24h_volume and mkt_cap before scaling"
   ]
  },
  {
   "cell_type": "markdown",
   "id": "dcad4b11-0e76-4554-89bd-e09b673155d1",
   "metadata": {},
   "source": [
    "The problem: Skewed data with large ranges\n",
    "Features like trading volume and market cap often have very skewed distributions — meaning some cryptocurrencies have extremely large values while others are tiny.\n",
    "\n",
    "This causes a huge range and long tail in the data.\n",
    "\n",
    "When you apply normal scaling (like Min-Max or StandardScaler) directly on such data, these extreme values dominate the scaling, squeezing most data points into a tiny range near zero.\n",
    "\n"
   ]
  },
  {
   "cell_type": "code",
   "execution_count": 37,
   "id": "7211f5c4-bd50-484d-b304-1cbf7dc973f2",
   "metadata": {},
   "outputs": [
    {
     "name": "stdout",
     "output_type": "stream",
     "text": [
      "      price        1h       24h        7d  log_24h_volume  log_mkt_cap  \\\n",
      "0  0.991123  0.882353  0.528209  0.102787        0.958033     1.000000   \n",
      "1  0.068525  0.886108  0.551922  0.114595        0.941641     0.911685   \n",
      "2  0.000024  0.881101  0.528209  0.108014        0.989019     0.757925   \n",
      "3  0.009453  0.883605  0.541292  0.106078        0.850504     0.736422   \n",
      "4  0.000024  0.879850  0.528209  0.108014        0.887550     0.712921   \n",
      "\n",
      "   liquidity_level symbol  \n",
      "0                0    BTC  \n",
      "1                0    ETH  \n",
      "2                0   USDT  \n",
      "3                0    BNB  \n",
      "4                0   USDC  \n"
     ]
    }
   ],
   "source": [
    "import pandas as pd\n",
    "import numpy as np\n",
    "from sklearn.preprocessing import LabelEncoder, MinMaxScaler\n",
    "\n",
    "\n",
    "# --- STEP 2: Encode 'liquidity_level' into numeric labels ---\n",
    "le = LabelEncoder()\n",
    "df['liquidity_level_encoded'] = le.fit_transform(df['liquidity_level'])\n",
    "\n",
    "# --- STEP 3: Select features (including ones to log-transform later) ---\n",
    "features = ['price', '1h', '24h', '7d', '24h_volume', 'mkt_cap']\n",
    "\n",
    "# --- STEP 4: Handle missing values (before log or scaling) ---\n",
    "df[features] = df[features].fillna(df[features].median())\n",
    "\n",
    "# --- STEP 5: Log transform skewed features ---\n",
    "df['log_24h_volume'] = np.log1p(df['24h_volume'])\n",
    "df['log_mkt_cap'] = np.log1p(df['mkt_cap'])\n",
    "\n",
    "# --- STEP 6: Drop original versions of log-transformed features ---\n",
    "df.drop(['24h_volume', 'mkt_cap'], axis=1, inplace=True)\n",
    "\n",
    "# --- STEP 7: Prepare features for scaling ---\n",
    "features_for_scaling = ['price', '1h', '24h', '7d', 'log_24h_volume', 'log_mkt_cap']\n",
    "\n",
    "# --- STEP 8: Apply MinMaxScaler ---\n",
    "scaler = MinMaxScaler()\n",
    "scaled_values = scaler.fit_transform(df[features_for_scaling])\n",
    "\n",
    "# --- STEP 9: Reconstruct scaled DataFrame ---\n",
    "df_scaled = pd.DataFrame(scaled_values, columns=features_for_scaling)\n",
    "\n",
    "# --- STEP 10: Add back encoded target and identifier columns ---\n",
    "df_scaled['liquidity_level'] = df['liquidity_level_encoded']\n",
    "df_scaled['symbol'] = df['symbol']  # assuming 'symbol' exists in df\n",
    "\n",
    "# --- Final scaled DataFrame is ready for ML modeling ---\n",
    "print(df_scaled.head())\n"
   ]
  },
  {
   "cell_type": "code",
   "execution_count": null,
   "id": "081cc423-e5c1-4eb4-8f7b-bce6e2743480",
   "metadata": {},
   "outputs": [],
   "source": []
  },
  {
   "cell_type": "code",
   "execution_count": 38,
   "id": "3092394e-b8a5-4c87-9fa5-153c4fbb9485",
   "metadata": {},
   "outputs": [
    {
     "data": {
      "text/plain": [
       "liquidity_level\n",
       "0    340\n",
       "2    330\n",
       "1    330\n",
       "Name: count, dtype: int64"
      ]
     },
     "execution_count": 38,
     "metadata": {},
     "output_type": "execute_result"
    }
   ],
   "source": [
    "df_scaled['liquidity_level'].value_counts()\n"
   ]
  },
  {
   "cell_type": "code",
   "execution_count": 39,
   "id": "f9022811-f691-4086-a80b-d259369e4710",
   "metadata": {},
   "outputs": [],
   "source": [
    "df=df_scaled"
   ]
  },
  {
   "cell_type": "markdown",
   "id": "ffe4980a-bd3d-4c63-83eb-a2c4efeccd1a",
   "metadata": {},
   "source": [
    "Univariate Analysis\n",
    "The term univariate analysis refers to the analysis of one variable prefix “uni” means “one.” The purpose of univariate analysis is to understand the distribution of values for a single variable.\n",
    "Other Type of Analysis are\n",
    "\n",
    "Bivariate Analysis: The analysis of two variables.\n",
    "Multivariate Analysis: The analysis of two or more variables.\n",
    "Numerical Features"
   ]
  },
  {
   "cell_type": "code",
   "execution_count": 40,
   "id": "ef00ed77-8e68-45ab-b095-fd6c0ae57e98",
   "metadata": {},
   "outputs": [
    {
     "data": {
      "image/png": "[encoded data removed]",
      "text/plain": [
       "<Figure size 1500x1000 with 6 Axes>"
      ]
     },
     "metadata": {},
     "output_type": "display_data"
    }
   ],
   "source": [
    "import matplotlib.pyplot as plt\n",
    "import seaborn as sns\n",
    "\n",
    "# List of numeric features in your dataset\n",
    "numeric_features = ['price', '1h', '24h', '7d', 'log_24h_volume', 'log_mkt_cap']\n",
    "\n",
    "plt.figure(figsize=(15, 10))\n",
    "plt.suptitle('Univariate Analysis of Numerical Features', fontsize=20, fontweight='bold', alpha=0.8, y=1.05)\n",
    "\n",
    "for i, feature in enumerate(numeric_features, 1):\n",
    "    plt.subplot(2, 3, i)  # 2 rows, 3 columns grid (6 plots)\n",
    "    sns.kdeplot(data=df_scaled, x=feature, color='blue', fill=True)\n",
    "    plt.xlabel(feature)\n",
    "    plt.tight_layout()\n",
    "\n",
    "plt.show()\n"
   ]
  },
  {
   "cell_type": "markdown",
   "id": "0e51bb4a-c1d0-4169-b013-e88ebaf37028",
   "metadata": {},
   "source": [
    "price:Price shows an extremely right-skewed distribution with most values concentrated very close to 0. There appears to be a few outliers extending\n",
    "toward 1.0, but the vast majority of cryptocurrency prices in this normalized dataset are clustered at the lower end of the scale, likely representing\n",
    "smaller altcoins with much lower prices compared to a few high-value cryptocurrencies.\n",
    "    \n",
    "1h: 1h (1-hour price change) displays a strong concentration around 0.88-0.90, with a very narrow peak. This suggests most cryptocurrencies had similar\n",
    "1-hour price movements within this specific timeframe, showing limited volatility in the short term.\n",
    "    \n",
    "24h:24h (24-hour price change) exhibits concentration around 0.53-0.55, with a narrow peak similar to the 1h feature. This indicates more consistent\n",
    "behavior across cryptocurrencies over the 24-hour timeframe.\n",
    "\n",
    "7d :7d (7-day price change) shows a strong right-skewed distribution with most values clustered around 0.10-0.12. This suggests most cryptocurrencies \n",
    "experienced similar weekly price movements, with very few showing significant deviations.\n",
    "\n",
    "log_24h_volume:log_24h_volume has a more normal-like distribution centered around 0.65-0.75, but with a slight left skew. This transformed trading \n",
    "volume metric shows a wider spread compared to price change metrics, indicating more variability in trading activity across cryptocurrencies.\n",
    "\n",
    "log_mkt_cap:log_mkt_cap displays a strong right-skewed distribution with peak density near 0, gradually trailing off toward higher values. This \n",
    "suggests a market dominated by many cryptocurrencies with smaller market capitalizations and fewer with large market caps, which is typical of the\n",
    "cryptocurrency market structure.\n",
    "\n",
    "These distributions highlight that most cryptocurrencies in the dataset show similar short-term price change behaviors, while having more variation in \n",
    "their trading volumes and market capitalizations. The normalized price data confirms the typical pattern where a few cryptocurrencies have \n",
    "significantly higher values than the majority of tokens.RetryClaude can make mistakes. Please double-check responses."
   ]
  },
  {
   "cell_type": "markdown",
   "id": "e1c29c49-0e18-4e1e-ab34-24ddb50c9a96",
   "metadata": {},
   "source": [
    "Categorical Features"
   ]
  },
  {
   "cell_type": "code",
   "execution_count": 41,
   "id": "aefec2d7-8ae7-4c30-b515-17cd6af40baa",
   "metadata": {},
   "outputs": [
    {
     "data": {
      "image/png": "[encoded data removed]",
      "text/plain": [
       "<Figure size 1000x600 with 1 Axes>"
      ]
     },
     "metadata": {},
     "output_type": "display_data"
    },
    {
     "data": {
      "image/png": "[encoded data removed]",
      "text/plain": [
       "<Figure size 1200x1000 with 1 Axes>"
      ]
     },
     "metadata": {},
     "output_type": "display_data"
    }
   ],
   "source": [
    "# Identify categorical features\n",
    "categorical_features = ['liquidity_level', 'symbol']\n",
    "\n",
    "# Create separate plots for each categorical feature\n",
    "plt.figure(figsize=(10, 6))\n",
    "plt.suptitle('Distribution of Liquidity Levels', fontsize=16, fontweight='bold', y=1.05)\n",
    "\n",
    "# Plot for liquidity_level\n",
    "ax = sns.countplot(x=df['liquidity_level'].astype('category'))\n",
    "# Add count annotations on bars\n",
    "for p in ax.patches:\n",
    "    ax.annotate('{:.0f}'.format(p.get_height()), (p.get_x()+0.35, p.get_height()+5))\n",
    "plt.xlabel('Liquidity Level (0=Low, 1=Medium, 2=High)')\n",
    "plt.tight_layout()\n",
    "# plt.savefig('./images/Liquidity_Level_Distribution.png')\n",
    "\n",
    "# Create a separate horizontal plot for cryptocurrency symbols\n",
    "plt.figure(figsize=(12, 10))  # Make it taller for horizontal bars\n",
    "plt.suptitle('Distribution of Cryptocurrencies', fontsize=16, fontweight='bold', y=1.02)\n",
    "\n",
    "# Get top 20 most frequent cryptocurrencies if there are many\n",
    "symbol_counts = df['symbol'].value_counts()\n",
    "if len(symbol_counts) > 20:\n",
    "    # Focus on top 20 cryptocurrencies\n",
    "    top_symbols = symbol_counts.head(20).index\n",
    "    symbol_data = df[df['symbol'].isin(top_symbols)]\n",
    "    plt.title('Top 20 Cryptocurrencies by Frequency')\n",
    "else:\n",
    "    symbol_data = df\n",
    "    plt.title('All Cryptocurrencies by Frequency')\n",
    "\n",
    "# Plot horizontal bars for better readability\n",
    "ax = sns.countplot(y=symbol_data['symbol'], order=symbol_counts.iloc[:20].index)\n",
    "\n",
    "# Add count annotations on bars\n",
    "for p in ax.patches:\n",
    "    ax.annotate('{:.0f}'.format(p.get_width()), \n",
    "                (p.get_width()+3, p.get_y()+0.35))\n",
    "\n",
    "plt.xlabel('Count')\n",
    "plt.ylabel('Cryptocurrency Symbol')\n",
    "plt.tight_layout()\n",
    "# plt.savefig('./images/Cryptocurrency_Distribution.png')"
   ]
  },
  {
   "cell_type": "markdown",
   "id": "03b2f032-524f-4c7b-9a4c-ca9df1a56284",
   "metadata": {},
   "source": [
    "# Report of Categorical Features Analysis\n",
    "\n",
    "Based on visualizations, here's an analysis of the categorical features in the cryptocurrency dataset:\n",
    "\n",
    "## For column `liquidity_level`\n",
    "* The distribution of liquidity levels is remarkably balanced across all three categories.\n",
    "* There are 340 cryptocurrencies with liquidity level 0 (Low).\n",
    "* Both liquidity levels 1 (Medium) and 2 (High) have exactly 330 cryptocurrencies each.\n",
    "* This even distribution suggests that the dataset has been carefully constructed or sampled to maintain balance across liquidity categories, which is beneficial for any modeling tasks where liquidity level might be used as a target variable.\n",
    "\n",
    "## For column `symbol` (Top 20 Cryptocurrencies by Frequency)\n",
    "* Three cryptocurrencies dominate the dataset with significantly higher frequency than others: RUNE, TIME, and PEG, each appearing approximately 4 times in the dataset.\n",
    "  \n",
    "* The remaining top 20 cryptocurrencies (BADGER, ERGOPAD, SAI, ADIX, PHIL, PEAK, HPB, BSW, ATOM, VADER, LTC, STETH, NEAR, LINK, TRX, FTT, LEO) all have approximately 2 occurrences each.\n",
    "\n",
    "* This distribution shows a clear distinction between the top 3 most frequent cryptocurrencies and the rest.\n",
    "\n",
    "* The limited number of occurrences per cryptocurrency suggests this might be a dataset tracking specific events, transactions, or time periods rather than a comprehensive market dataset.\n",
    "\n",
    "* The diversity of cryptocurrencies represented includes both major coins (like LTC, ATOM, LINK) and lesser-known tokens, indicating a broad market coverage.\n",
    "\n",
    "This categorical feature analysis reveals a well-balanced dataset in terms of liquidity levels, which is advantageous for modeling. The cryptocurrency distribution shows particular emphasis on certain tokens (RUNE, TIME, PEG) while maintaining representation across various market segments."
   ]
  },
  {
   "cell_type": "markdown",
   "id": "8651b1a3-b548-45db-b1f7-e60383af1a15",
   "metadata": {},
   "source": [
    "Count of features\n",
    "analyze based on liquidity levels across time if that's relevant"
   ]
  },
  {
   "cell_type": "code",
   "execution_count": 42,
   "id": "31de09b6-f34e-455f-8fcb-45ad4cc10219",
   "metadata": {},
   "outputs": [
    {
     "data": {
      "image/png": "[encoded data removed]",
      "text/plain": [
       "<Figure size 640x480 with 1 Axes>"
      ]
     },
     "metadata": {},
     "output_type": "display_data"
    }
   ],
   "source": [
    "\n",
    "liquidity_distribution = df.groupby(by=\"liquidity_level\", axis=0)[['symbol']].count()\n",
    "liquidity_distribution = liquidity_distribution.reset_index()\n",
    "liquidity_distribution.columns = ['LIQUIDITY_LEVEL','CRYPTO_COUNT']\n",
    "sns.barplot(data=liquidity_distribution, x=liquidity_distribution['LIQUIDITY_LEVEL'], y=liquidity_distribution['CRYPTO_COUNT'])\n",
    "plt.title('Count of Cryptocurrencies by Liquidity Level')\n",
    "plt.xlabel('Liquidity Level (0=Low, 1=Medium, 2=High)')\n",
    "plt.ylabel('Number of Cryptocurrencies')\n",
    "plt.show()"
   ]
  },
  {
   "cell_type": "markdown",
   "id": "93b71a9b-ac80-4604-a30a-bca14952242e",
   "metadata": {},
   "source": [
    "# Report: Cryptocurrency Distribution by Liquidity Level\n",
    "\n",
    "Based on the bar chart showing the count of cryptocurrencies by liquidity level:\n",
    "\n",
    "* The dataset shows a relatively balanced distribution across all three liquidity levels, with a slightly higher count for low liquidity cryptocurrencies.\n",
    "\n",
    "* Liquidity level 0 (Low) has approximately 340 cryptocurrencies, representing the largest category in the dataset.\n",
    "\n",
    "* Both liquidity levels 1 (Medium) and 2 (High) contain approximately 330 cryptocurrencies each.\n",
    "\n",
    "* This distribution suggests that the cryptocurrency market represented in this dataset has a well-balanced representation across different liquidity categories, with only a marginal preference toward lower liquidity tokens.\n",
    "\n",
    "* The small difference between categories (approximately 10 cryptocurrencies) indicates that the dataset may have been deliberately constructed to maintain balance, which is beneficial for machine learning models that might use liquidity as a feature or target variable.\n",
    "\n",
    "* The nearly equal distribution also suggests that any patterns discovered in relation to liquidity would not be biased by class imbalance issues.\n",
    "\n",
    "This balanced representation across liquidity levels provides a solid foundation for analysis of how other features (price, trading volume, market cap) might correlate with or predict cryptocurrency liquidity in the market."
   ]
  },
  {
   "cell_type": "markdown",
   "id": "9db61d68-e51d-497e-a616-d57140836816",
   "metadata": {},
   "source": [
    "Multivariate Analysis\n",
    "\n",
    "Multivariate analysis is the analysis of more than one variable.\n",
    "\n",
    "Check Multicollinearity in Numerical features"
   ]
  },
  {
   "cell_type": "code",
   "execution_count": 43,
   "id": "0d778e22-021b-4b64-bfd2-fd43414ebd54",
   "metadata": {},
   "outputs": [
    {
     "data": {
      "image/png": "[encoded data removed]",
      "text/plain": [
       "<Figure size 1200x800 with 2 Axes>"
      ]
     },
     "metadata": {},
     "output_type": "display_data"
    }
   ],
   "source": [
    "\n",
    "# Select the numerical features you want to analyze\n",
    "num_features = ['price', '1h', '24h', '7d', 'log_24h_volume', 'log_mkt_cap', 'liquidity_level']\n",
    "\n",
    "# Create the correlation heatmap\n",
    "plt.figure(figsize=(12, 8))\n",
    "sns.heatmap(df[num_features].corr(), annot=True, cmap=\"YlGnBu\", fmt=\".2f\")\n",
    "plt.title(\"Correlation Matrix of Numerical Features\")\n",
    "plt.show()"
   ]
  },
  {
   "cell_type": "markdown",
   "id": "a48d6f6d-7e68-4ecb-8b58-cd3e2403d86e",
   "metadata": {},
   "source": [
    "Multicollinearity Analysis Report"
   ]
  },
  {
   "cell_type": "markdown",
   "id": "acc0173f-a7e4-4fe5-bd1c-1c0b7be1a04a",
   "metadata": {},
   "source": [
    "Key Observations\n",
    "Strongest Correlations:\n",
    "\n",
    "log_24h_volume ↔ log_mkt_cap: 0.57 (moderate positive correlation)\n",
    "\n",
    "liquidity_level ↔ log_mkt_cap: -0.47 (moderate negative correlation)\n",
    "\n",
    "liquidity_level ↔ log_24h_volume: -0.40 (moderate negative correlation)\n",
    "\n",
    "Weak Correlations:\n",
    "\n",
    "Most features (e.g., price, 1h, 24h, 7d) show near-zero correlations with other variables.\n",
    "\n",
    "Unexpected Patterns:\n",
    "\n",
    "price is weakly correlated with all other features (<0.15), suggesting it may not be strongly influenced by the analyzed variables.\n",
    "\n",
    "Time-based features (1h, 24h, 7d) show low-moderate correlations with each other (0.13–0.47)."
   ]
  },
  {
   "cell_type": "code",
   "execution_count": null,
   "id": "64bf1864-f274-4bca-acad-a092a1c0149c",
   "metadata": {},
   "outputs": [],
   "source": []
  },
  {
   "cell_type": "markdown",
   "id": "8f36ea35-9e04-4624-a0ea-49993e56737a",
   "metadata": {},
   "source": [
    "Feature Engineering"
   ]
  },
  {
   "cell_type": "code",
   "execution_count": 44,
   "id": "0e788682-0803-4c38-adf6-4da2964d8be5",
   "metadata": {},
   "outputs": [],
   "source": [
    "df['size_volume_ratio'] = df['log_mkt_cap'] / (df['log_24h_volume'] + 1e-6)  # Avoid division by zero  "
   ]
  },
  {
   "cell_type": "markdown",
   "id": "6f95c5f5-938d-46ff-8f08-37f858134d20",
   "metadata": {},
   "source": [
    "What Does size_volume_ratio Represent?\n",
    "Numerator (log_mkt_cap): Market capitalization (log-scaled) reflects the asset's total value.\n",
    "\n",
    "Denominator (log_24h_volume): Trading volume (log-scaled) measures how actively the asset is traded.\n",
    "\n",
    "Interpretation:\n",
    "\n",
    "High ratio: Large market cap but low trading volume (e.g., stagnant \"blue-chip\" assets or illiquid whales).\n",
    "\n",
    "Low ratio: Small market cap but high trading volume (e.g., speculative altcoins or memecoins).\n",
    "\n"
   ]
  },
  {
   "cell_type": "markdown",
   "id": "3ff11595-d7e8-4878-9af6-52778ad7da33",
   "metadata": {},
   "source": [
    "Why Use This Feature?\n",
    "Captures Liquidity Anomalies:\n",
    "\n",
    "Assets with high size_volume_ratio (large cap, low volume) likely have lower liquidity (observed in your correlation: liquidity_level ↓ as log_mkt_cap ↑).\n",
    "\n",
    "Helps identify \"quiet giants\" (e.g., BTC held long-term) vs. \"hyper-traded small caps\" (e.g., SHIB).\n",
    "\n",
    "Mitigates Multicollinearity:\n",
    "\n",
    "Combines two moderately correlated features (log_mkt_cap and log_24h_volume, r=0.57) into one metric."
   ]
  },
  {
   "cell_type": "code",
   "execution_count": 45,
   "id": "574bef0f-f983-440e-81f0-dd0774ded58d",
   "metadata": {},
   "outputs": [
    {
     "data": {
      "image/png": "[encoded data removed]",
      "text/plain": [
       "<Figure size 500x500 with 1 Axes>"
      ]
     },
     "metadata": {},
     "output_type": "display_data"
    }
   ],
   "source": [
    "# Liquidity vs. Market Cap  \n",
    "sns.lmplot(data=df, x='log_mkt_cap', y='liquidity_level', lowess=True)  \n",
    "plt.title(\"Liquidity vs. Market Cap (Non-linear Trend?)\")  \n",
    "plt.show()  "
   ]
  },
  {
   "cell_type": "markdown",
   "id": "5d576755-abaf-4631-a2fb-ab93bf3c2d79",
   "metadata": {},
   "source": [
    "Analysis of the Liquidity vs. Market Cap Plot\n",
    "Graph Observations:\n",
    "\n",
    "Negative Trend: Confirms the earlier correlation (r = -0.47) — higher market cap correlates with lower liquidity.\n",
    "\n",
    "Non-linearity: The LOWESS curve shows a steeper decline at lower market caps (left side) and stabilizes slightly for higher market caps (right side).\n",
    "\n",
    "Example: Assets with log_mkt_cap < 0.4 (small caps) experience sharper liquidity drops as market cap grows.\n",
    "\n",
    "Large-cap assets (log_mkt_cap > 0.8) show less variability in liquidity.\n",
    "\n",
    "Outliers: A few high-liquidity outliers exist at mid-sized market caps (e.g., log_mkt_cap ≈ 0.5).\n",
    "\n"
   ]
  },
  {
   "cell_type": "markdown",
   "id": "75a816d9-441f-4676-9991-d96e5e90cab5",
   "metadata": {},
   "source": [
    "Key Insights\n",
    "Non-Uniform Relationship:\n",
    "\n",
    "Liquidity erosion accelerates for small-to-mid cap assets but slows for large caps.\n",
    "\n",
    "Hypothesis: Large-cap assets (e.g., BTC, ETH) may have structural factors (e.g., institutional holding, staking) that stabilize liquidity.\n",
    "\n",
    "Critical Threshold:\n",
    "\n",
    "A \"liquidity cliff\" may exist around log_mkt_cap ≈ 0.4. Assets crossing this threshold face disproportionate liquidity loss.\n",
    "\n",
    "Outlier Investigation:\n",
    "\n",
    "High-liquidity mid-caps (outliers) could be exchange tokens (e.g., BNB) or memecoins with active retail trading."
   ]
  },
  {
   "cell_type": "code",
   "execution_count": 46,
   "id": "0a555417-18b2-4426-bd2d-d5a20b3d4ced",
   "metadata": {},
   "outputs": [],
   "source": [
    "df[\"log_mkt_cap_squared\"] = df[\"log_mkt_cap\"] ** 2  "
   ]
  },
  {
   "cell_type": "markdown",
   "id": "71a0061b-de1e-4438-8865-739bba900c7d",
   "metadata": {},
   "source": [
    "Segmentation: Create a binary feature is_large_cap (e.g., log_mkt_cap > 0.8) to model regime shifts."
   ]
  },
  {
   "cell_type": "code",
   "execution_count": 47,
   "id": "9e05f234-fa47-4db2-a154-0d4da3b02ad6",
   "metadata": {},
   "outputs": [
    {
     "name": "stdout",
     "output_type": "stream",
     "text": [
      "cap_segment\n",
      "small    1.0\n",
      "mid      1.0\n",
      "large    0.0\n",
      "Name: liquidity_level, dtype: float64\n"
     ]
    }
   ],
   "source": [
    "# Categorize assets by market cap percentile  \n",
    "df['cap_segment'] = pd.qcut(df['log_mkt_cap'], q=[0, 0.25, 0.75, 1], labels=['small', 'mid', 'large'])  \n",
    "\n",
    "# Compare median liquidity per segment  \n",
    "print(df.groupby('cap_segment')['liquidity_level'].median())  "
   ]
  },
  {
   "cell_type": "markdown",
   "id": "41f64459-a904-48a1-a0bb-791b8b8ff3ff",
   "metadata": {},
   "source": [
    "Small/Mid Caps: Perfect median liquidity (1.0), indicating most assets in these segments are highly liquid.\n",
    "\n",
    "Large Caps: Zero median liquidity (0.0), meaning large-cap assets are extremely illiquid."
   ]
  },
  {
   "cell_type": "code",
   "execution_count": 48,
   "id": "526fa904-0325-4c3d-acc2-96cb29be52f9",
   "metadata": {},
   "outputs": [
    {
     "name": "stdout",
     "output_type": "stream",
     "text": [
      "Large-cap assets: ['BTC', 'ETH', 'USDT', 'BNB', 'USDC', 'XRP', 'LUNA', 'SOL', 'ADA', 'AVAX', 'DOT', 'BUSD', 'DOGE', 'UST', 'SHIB', 'WBTC', 'CRO', 'MATIC', 'DAI', 'ATOM', 'LTC', 'STETH', 'NEAR', 'LINK', 'TRX', 'FTT', 'LEO', 'BCH', 'OKB', 'ALGO', 'XLM', 'UNI', 'HBAR', 'AXS', 'MANA', 'SAND', 'ICP', 'ETC', 'EGLD', 'XMR', 'CETH', 'VET', 'FIL', 'FTM', 'KLAY', 'OSMO', 'WAVES', 'FRAX', 'THETA', 'MIM', 'XTZ', 'GRT', 'CUSDC', 'RUNE', 'HNT', 'EOS', 'FLOW', 'AAVE', 'MIOTA', 'OMI', 'CDAI', 'TFUEL', 'MKR', 'ZEC', 'CAKE', 'JUNO', 'GALA', 'BTT', 'AR', 'HBTC', 'ONE', 'QNT', 'XEC', 'BSV', 'NEO', 'HT', 'TUSD', 'XIDO', 'CEL', 'KCS', 'ENJ', 'STX', 'HEART', 'CELO', 'BAT', 'XRD', 'NEXO', 'KSM', 'AMP', 'CHZ', 'KDA', 'DASH', 'FXS', 'CVX', 'BIT', 'USDP', 'SNX', 'GT', 'LRC', 'XEM', 'MINA', 'CRV', 'ROSE', 'APE', 'SCRT', 'LN', 'CUSDT', 'COMP', 'ANC', 'DCR', 'IOTX', 'HOT', 'KUB', 'YFI', 'USDN', 'NXM', 'XDC', 'SLP', 'WAXP', 'QTUM', 'SUSHI', 'PAXG', '1INCH', 'RENBTC', 'LPT', 'MSOL', 'BNT', 'BTC', 'ETH', 'USDT', 'BNB', 'USDC', 'XRP', 'LUNA', 'SOL', 'ADA', 'DOT', 'AVAX', 'BUSD', 'DOGE', 'UST', 'SHIB', 'WBTC', 'CRO', 'MATIC', 'DAI', 'ATOM', 'LTC', 'STETH', 'NEAR', 'LINK', 'TRX', 'FTT', 'BCH', 'LEO', 'OKB', 'ALGO', 'XLM', 'UNI', 'HBAR', 'AXS', 'MANA', 'ETC', 'EGLD', 'SAND', 'ICP', 'XMR', 'CETH', 'VET', 'FTM', 'FIL', 'OSMO', 'KLAY', 'FRAX', 'WAVES', 'THETA', 'MIM', 'GRT', 'XTZ', 'CUSDC', 'HNT', 'RUNE', 'EOS', 'OMI', 'MIOTA', 'CDAI', 'FLOW', 'TFUEL', 'AAVE', 'ZEC', 'MKR', 'JUNO', 'GALA', 'BTT', 'AR', 'HBTC', 'CAKE', 'QNT', 'ONE', 'XEC', 'BSV', 'NEO', 'TUSD', 'HT', 'KCS', 'CEL', 'STX', 'HEART', 'ENJ', 'BAT', 'NEXO', 'AMP', 'XRD', 'KSM', 'CELO', 'KDA', 'CHZ', 'DASH', 'FXS', 'USDP', 'BIT', 'GT', 'CVX', 'SNX', 'XIDO', 'LRC', 'XEM', 'ANC', 'ROSE', 'CRV', 'DCR', 'CUSDT', 'SCRT', 'LN', 'MINA', 'HOT', 'COMP', 'IOTX', 'KUB', 'USDN', 'YFI', 'NXM', 'XDC', '1INCH', 'WAXP', 'SLP', 'QTUM', 'PAXG', 'SUSHI', 'RENBTC']\n"
     ]
    }
   ],
   "source": [
    "large_cap_assets = df[df['cap_segment'] == 'large']['symbol'].tolist()  \n",
    "print(\"Large-cap assets:\", large_cap_assets)  "
   ]
  },
  {
   "cell_type": "markdown",
   "id": "4a4e4a67-8b12-4792-a989-ddc335a8cf81",
   "metadata": {},
   "source": [
    "Dominance of Stablecoins: Stablecoins (e.g., USDT, USDC) dominate the large-cap segment"
   ]
  },
  {
   "cell_type": "code",
   "execution_count": 49,
   "id": "93df7de4-86f7-406c-bcd5-46ba535e4ca3",
   "metadata": {},
   "outputs": [
    {
     "name": "stdout",
     "output_type": "stream",
     "text": [
      "    symbol  liquidity_level\n",
      "2     USDT                0\n",
      "4     USDC                0\n",
      "11    BUSD                0\n",
      "18     DAI                0\n",
      "47    FRAX                2\n",
      "76    TUSD                0\n",
      "121   PAXG                0\n",
      "502   USDT                0\n",
      "504   USDC                0\n",
      "511   BUSD                0\n",
      "518    DAI                0\n",
      "546   FRAX                2\n",
      "575   TUSD                0\n",
      "620   PAXG                0\n"
     ]
    }
   ],
   "source": [
    "stablecoins = ['USDT', 'USDC', 'BUSD', 'DAI', 'FRAX', 'TUSD', 'PAXG']  \n",
    "stablecoin_liquidity = df[df['symbol'].isin(stablecoins)][['symbol', 'liquidity_level']]  \n",
    "print(stablecoin_liquidity)  "
   ]
  },
  {
   "cell_type": "code",
   "execution_count": 50,
   "id": "79413675-d110-4c3b-8016-e6d85d4ff973",
   "metadata": {},
   "outputs": [],
   "source": [
    "df['is_stablecoin'] = df['symbol'].isin(stablecoins).astype(int)"
   ]
  },
  {
   "cell_type": "code",
   "execution_count": 51,
   "id": "5b60e65a-4333-4123-8e4a-4cc9dc4f896e",
   "metadata": {},
   "outputs": [],
   "source": [
    "df['vol_ratio_1h_24h'] = df['1h'] / (df['24h'] + 1e-6)  # Short-term volatility comparison\n",
    "df['vol_ratio_24h_7d'] = df['24h'] / (df['7d'] + 1e-6)  # Medium-term volatility comparison"
   ]
  },
  {
   "cell_type": "code",
   "execution_count": 52,
   "id": "0369868d-5474-4ccc-8fea-8ef1fd19d0ea",
   "metadata": {},
   "outputs": [
    {
     "data": {
      "text/html": [
       "<div>\n",
       "<style scoped>\n",
       "    .dataframe tbody tr th:only-of-type {\n",
       "        vertical-align: middle;\n",
       "    }\n",
       "\n",
       "    .dataframe tbody tr th {\n",
       "        vertical-align: top;\n",
       "    }\n",
       "\n",
       "    .dataframe thead th {\n",
       "        text-align: right;\n",
       "    }\n",
       "</style>\n",
       "<table border=\"1\" class=\"dataframe\">\n",
       "  <thead>\n",
       "    <tr style=\"text-align: right;\">\n",
       "      <th></th>\n",
       "      <th>price</th>\n",
       "      <th>1h</th>\n",
       "      <th>24h</th>\n",
       "      <th>7d</th>\n",
       "      <th>log_24h_volume</th>\n",
       "      <th>log_mkt_cap</th>\n",
       "      <th>liquidity_level</th>\n",
       "      <th>symbol</th>\n",
       "      <th>size_volume_ratio</th>\n",
       "      <th>log_mkt_cap_squared</th>\n",
       "      <th>cap_segment</th>\n",
       "      <th>is_stablecoin</th>\n",
       "      <th>vol_ratio_1h_24h</th>\n",
       "      <th>vol_ratio_24h_7d</th>\n",
       "    </tr>\n",
       "  </thead>\n",
       "  <tbody>\n",
       "    <tr>\n",
       "      <th>0</th>\n",
       "      <td>9.911229e-01</td>\n",
       "      <td>0.882353</td>\n",
       "      <td>0.528209</td>\n",
       "      <td>0.102787</td>\n",
       "      <td>0.958033</td>\n",
       "      <td>1.000000</td>\n",
       "      <td>0</td>\n",
       "      <td>BTC</td>\n",
       "      <td>1.043805</td>\n",
       "      <td>1.000000e+00</td>\n",
       "      <td>large</td>\n",
       "      <td>0</td>\n",
       "      <td>1.670458</td>\n",
       "      <td>5.138800</td>\n",
       "    </tr>\n",
       "    <tr>\n",
       "      <th>1</th>\n",
       "      <td>6.852516e-02</td>\n",
       "      <td>0.886108</td>\n",
       "      <td>0.551922</td>\n",
       "      <td>0.114595</td>\n",
       "      <td>0.941641</td>\n",
       "      <td>0.911685</td>\n",
       "      <td>0</td>\n",
       "      <td>ETH</td>\n",
       "      <td>0.968187</td>\n",
       "      <td>8.311700e-01</td>\n",
       "      <td>large</td>\n",
       "      <td>0</td>\n",
       "      <td>1.605493</td>\n",
       "      <td>4.816219</td>\n",
       "    </tr>\n",
       "    <tr>\n",
       "      <th>2</th>\n",
       "      <td>2.426167e-05</td>\n",
       "      <td>0.881101</td>\n",
       "      <td>0.528209</td>\n",
       "      <td>0.108014</td>\n",
       "      <td>0.989019</td>\n",
       "      <td>0.757925</td>\n",
       "      <td>0</td>\n",
       "      <td>USDT</td>\n",
       "      <td>0.766340</td>\n",
       "      <td>5.744504e-01</td>\n",
       "      <td>large</td>\n",
       "      <td>1</td>\n",
       "      <td>1.668088</td>\n",
       "      <td>4.890151</td>\n",
       "    </tr>\n",
       "    <tr>\n",
       "      <th>3</th>\n",
       "      <td>9.452591e-03</td>\n",
       "      <td>0.883605</td>\n",
       "      <td>0.541292</td>\n",
       "      <td>0.106078</td>\n",
       "      <td>0.850504</td>\n",
       "      <td>0.736422</td>\n",
       "      <td>0</td>\n",
       "      <td>BNB</td>\n",
       "      <td>0.865864</td>\n",
       "      <td>5.423167e-01</td>\n",
       "      <td>large</td>\n",
       "      <td>0</td>\n",
       "      <td>1.632396</td>\n",
       "      <td>5.102715</td>\n",
       "    </tr>\n",
       "    <tr>\n",
       "      <th>4</th>\n",
       "      <td>2.425534e-05</td>\n",
       "      <td>0.879850</td>\n",
       "      <td>0.528209</td>\n",
       "      <td>0.108014</td>\n",
       "      <td>0.887550</td>\n",
       "      <td>0.712921</td>\n",
       "      <td>0</td>\n",
       "      <td>USDC</td>\n",
       "      <td>0.803245</td>\n",
       "      <td>5.082557e-01</td>\n",
       "      <td>large</td>\n",
       "      <td>1</td>\n",
       "      <td>1.665719</td>\n",
       "      <td>4.890151</td>\n",
       "    </tr>\n",
       "    <tr>\n",
       "      <th>...</th>\n",
       "      <td>...</td>\n",
       "      <td>...</td>\n",
       "      <td>...</td>\n",
       "      <td>...</td>\n",
       "      <td>...</td>\n",
       "      <td>...</td>\n",
       "      <td>...</td>\n",
       "      <td>...</td>\n",
       "      <td>...</td>\n",
       "      <td>...</td>\n",
       "      <td>...</td>\n",
       "      <td>...</td>\n",
       "      <td>...</td>\n",
       "      <td>...</td>\n",
       "    </tr>\n",
       "    <tr>\n",
       "      <th>995</th>\n",
       "      <td>1.662305e-06</td>\n",
       "      <td>0.916145</td>\n",
       "      <td>0.549469</td>\n",
       "      <td>0.106465</td>\n",
       "      <td>0.666303</td>\n",
       "      <td>0.001804</td>\n",
       "      <td>2</td>\n",
       "      <td>ARPA</td>\n",
       "      <td>0.002708</td>\n",
       "      <td>3.255274e-06</td>\n",
       "      <td>small</td>\n",
       "      <td>0</td>\n",
       "      <td>1.667327</td>\n",
       "      <td>5.160959</td>\n",
       "    </tr>\n",
       "    <tr>\n",
       "      <th>996</th>\n",
       "      <td>3.736298e-05</td>\n",
       "      <td>0.887359</td>\n",
       "      <td>0.533933</td>\n",
       "      <td>0.115950</td>\n",
       "      <td>0.637672</td>\n",
       "      <td>0.000969</td>\n",
       "      <td>2</td>\n",
       "      <td>GF</td>\n",
       "      <td>0.001519</td>\n",
       "      <td>9.387050e-07</td>\n",
       "      <td>small</td>\n",
       "      <td>0</td>\n",
       "      <td>1.661927</td>\n",
       "      <td>4.604798</td>\n",
       "    </tr>\n",
       "    <tr>\n",
       "      <th>997</th>\n",
       "      <td>2.306636e-08</td>\n",
       "      <td>0.897372</td>\n",
       "      <td>0.594440</td>\n",
       "      <td>0.113821</td>\n",
       "      <td>0.522772</td>\n",
       "      <td>0.000920</td>\n",
       "      <td>1</td>\n",
       "      <td>RISE</td>\n",
       "      <td>0.001761</td>\n",
       "      <td>8.471206e-07</td>\n",
       "      <td>small</td>\n",
       "      <td>0</td>\n",
       "      <td>1.509606</td>\n",
       "      <td>5.222533</td>\n",
       "    </tr>\n",
       "    <tr>\n",
       "      <th>998</th>\n",
       "      <td>1.111493e-05</td>\n",
       "      <td>0.903630</td>\n",
       "      <td>0.551922</td>\n",
       "      <td>0.113628</td>\n",
       "      <td>0.670394</td>\n",
       "      <td>0.000798</td>\n",
       "      <td>2</td>\n",
       "      <td>RARE</td>\n",
       "      <td>0.001190</td>\n",
       "      <td>6.365331e-07</td>\n",
       "      <td>small</td>\n",
       "      <td>0</td>\n",
       "      <td>1.637240</td>\n",
       "      <td>4.857243</td>\n",
       "    </tr>\n",
       "    <tr>\n",
       "      <th>999</th>\n",
       "      <td>7.902974e-06</td>\n",
       "      <td>0.899875</td>\n",
       "      <td>0.529027</td>\n",
       "      <td>0.124274</td>\n",
       "      <td>0.526538</td>\n",
       "      <td>0.000000</td>\n",
       "      <td>1</td>\n",
       "      <td>OXY</td>\n",
       "      <td>0.000000</td>\n",
       "      <td>0.000000e+00</td>\n",
       "      <td>small</td>\n",
       "      <td>0</td>\n",
       "      <td>1.700997</td>\n",
       "      <td>4.256902</td>\n",
       "    </tr>\n",
       "  </tbody>\n",
       "</table>\n",
       "<p>1000 rows × 14 columns</p>\n",
       "</div>"
      ],
      "text/plain": [
       "            price        1h       24h        7d  log_24h_volume  log_mkt_cap  \\\n",
       "0    9.911229e-01  0.882353  0.528209  0.102787        0.958033     1.000000   \n",
       "1    6.852516e-02  0.886108  0.551922  0.114595        0.941641     0.911685   \n",
       "2    2.426167e-05  0.881101  0.528209  0.108014        0.989019     0.757925   \n",
       "3    9.452591e-03  0.883605  0.541292  0.106078        0.850504     0.736422   \n",
       "4    2.425534e-05  0.879850  0.528209  0.108014        0.887550     0.712921   \n",
       "..            ...       ...       ...       ...             ...          ...   \n",
       "995  1.662305e-06  0.916145  0.549469  0.106465        0.666303     0.001804   \n",
       "996  3.736298e-05  0.887359  0.533933  0.115950        0.637672     0.000969   \n",
       "997  2.306636e-08  0.897372  0.594440  0.113821        0.522772     0.000920   \n",
       "998  1.111493e-05  0.903630  0.551922  0.113628        0.670394     0.000798   \n",
       "999  7.902974e-06  0.899875  0.529027  0.124274        0.526538     0.000000   \n",
       "\n",
       "     liquidity_level symbol  size_volume_ratio  log_mkt_cap_squared  \\\n",
       "0                  0    BTC           1.043805         1.000000e+00   \n",
       "1                  0    ETH           0.968187         8.311700e-01   \n",
       "2                  0   USDT           0.766340         5.744504e-01   \n",
       "3                  0    BNB           0.865864         5.423167e-01   \n",
       "4                  0   USDC           0.803245         5.082557e-01   \n",
       "..               ...    ...                ...                  ...   \n",
       "995                2   ARPA           0.002708         3.255274e-06   \n",
       "996                2     GF           0.001519         9.387050e-07   \n",
       "997                1   RISE           0.001761         8.471206e-07   \n",
       "998                2   RARE           0.001190         6.365331e-07   \n",
       "999                1    OXY           0.000000         0.000000e+00   \n",
       "\n",
       "    cap_segment  is_stablecoin  vol_ratio_1h_24h  vol_ratio_24h_7d  \n",
       "0         large              0          1.670458          5.138800  \n",
       "1         large              0          1.605493          4.816219  \n",
       "2         large              1          1.668088          4.890151  \n",
       "3         large              0          1.632396          5.102715  \n",
       "4         large              1          1.665719          4.890151  \n",
       "..          ...            ...               ...               ...  \n",
       "995       small              0          1.667327          5.160959  \n",
       "996       small              0          1.661927          4.604798  \n",
       "997       small              0          1.509606          5.222533  \n",
       "998       small              0          1.637240          4.857243  \n",
       "999       small              0          1.700997          4.256902  \n",
       "\n",
       "[1000 rows x 14 columns]"
      ]
     },
     "execution_count": 52,
     "metadata": {},
     "output_type": "execute_result"
    }
   ],
   "source": [
    "df"
   ]
  },
  {
   "cell_type": "code",
   "execution_count": 53,
   "id": "2f72e189-ac86-4959-9a12-530cf7ae86ab",
   "metadata": {},
   "outputs": [
    {
     "data": {
      "text/plain": [
       "Index(['price', '1h', '24h', '7d', 'log_24h_volume', 'log_mkt_cap',\n",
       "       'liquidity_level', 'symbol', 'size_volume_ratio', 'log_mkt_cap_squared',\n",
       "       'cap_segment', 'is_stablecoin', 'vol_ratio_1h_24h', 'vol_ratio_24h_7d'],\n",
       "      dtype='object')"
      ]
     },
     "execution_count": 53,
     "metadata": {},
     "output_type": "execute_result"
    }
   ],
   "source": [
    "df.columns"
   ]
  },
  {
   "cell_type": "code",
   "execution_count": 54,
   "id": "7bb5efcb-2f76-4896-95ae-39951b4bb0b9",
   "metadata": {},
   "outputs": [
    {
     "name": "stdout",
     "output_type": "stream",
     "text": [
      "Removing feature: 24h (VIF: 12.29)\n",
      "Removing feature: log_mkt_cap (VIF: 6.99)\n",
      "Removing feature: log_mkt_cap_squared (VIF: 1.61)\n",
      "Removing feature: vol_ratio_1h_24h (VIF: 1.33)\n",
      "Removing feature: log_24h_volume (VIF: 1.12)\n",
      "Removing feature: 7d (VIF: 1.02)\n",
      "Removing feature: 1h (VIF: 1.00)\n",
      "\n",
      "Final set of features (including target):\n",
      "Index(['price', 'size_volume_ratio', 'is_stablecoin', 'vol_ratio_24h_7d',\n",
      "       'liquidity_level'],\n",
      "      dtype='object')\n"
     ]
    }
   ],
   "source": [
    "import pandas as pd\n",
    "from statsmodels.stats.outliers_influence import variance_inflation_factor\n",
    "from statsmodels.tools.tools import add_constant\n",
    "\n",
    "# Separate target variable\n",
    "target = 'liquidity_level'\n",
    "\n",
    "# Create a copy of predictors (exclude target and non-numeric)\n",
    "X = df.select_dtypes(include=['int64', 'float64']).drop(columns=[target])\n",
    "\n",
    "def calculate_vif(X):\n",
    "    X_const = add_constant(X)\n",
    "    vif = pd.DataFrame()\n",
    "    vif[\"Feature\"] = X_const.columns\n",
    "    vif[\"VIF\"] = [variance_inflation_factor(X_const.values, i) for i in range(X_const.shape[1])]\n",
    "    return vif.sort_values(\"VIF\", ascending=False)\n",
    "\n",
    "# Iteratively remove high VIF features\n",
    "X_reduced = X.copy()\n",
    "while True:\n",
    "    vif_df = calculate_vif(X_reduced)\n",
    "    max_vif = vif_df.iloc[0]\n",
    "\n",
    "    if max_vif['VIF'] <= 10:\n",
    "        break\n",
    "\n",
    "    if max_vif['Feature'] == 'const':\n",
    "        second_max = vif_df.iloc[1]\n",
    "        print(f\"Removing feature: {second_max['Feature']} (VIF: {second_max['VIF']:.2f})\")\n",
    "        X_reduced.drop(columns=[second_max['Feature']], inplace=True)\n",
    "    else:\n",
    "        print(f\"Removing feature: {max_vif['Feature']} (VIF: {max_vif['VIF']:.2f})\")\n",
    "        X_reduced.drop(columns=[max_vif['Feature']], inplace=True)\n",
    "\n",
    "# Add target column back for modeling\n",
    "X_reduced[target] = df[target]\n",
    "\n",
    "print(\"\\nFinal set of features (including target):\")\n",
    "print(X_reduced.columns)\n"
   ]
  },
  {
   "cell_type": "code",
   "execution_count": 55,
   "id": "a389de8b-327e-40d7-b58b-cd1226008534",
   "metadata": {},
   "outputs": [
    {
     "data": {
      "text/html": [
       "<div>\n",
       "<style scoped>\n",
       "    .dataframe tbody tr th:only-of-type {\n",
       "        vertical-align: middle;\n",
       "    }\n",
       "\n",
       "    .dataframe tbody tr th {\n",
       "        vertical-align: top;\n",
       "    }\n",
       "\n",
       "    .dataframe thead th {\n",
       "        text-align: right;\n",
       "    }\n",
       "</style>\n",
       "<table border=\"1\" class=\"dataframe\">\n",
       "  <thead>\n",
       "    <tr style=\"text-align: right;\">\n",
       "      <th></th>\n",
       "      <th>price</th>\n",
       "      <th>size_volume_ratio</th>\n",
       "      <th>is_stablecoin</th>\n",
       "      <th>vol_ratio_24h_7d</th>\n",
       "      <th>liquidity_level</th>\n",
       "    </tr>\n",
       "  </thead>\n",
       "  <tbody>\n",
       "    <tr>\n",
       "      <th>0</th>\n",
       "      <td>9.911229e-01</td>\n",
       "      <td>1.043805</td>\n",
       "      <td>0</td>\n",
       "      <td>5.138800</td>\n",
       "      <td>0</td>\n",
       "    </tr>\n",
       "    <tr>\n",
       "      <th>1</th>\n",
       "      <td>6.852516e-02</td>\n",
       "      <td>0.968187</td>\n",
       "      <td>0</td>\n",
       "      <td>4.816219</td>\n",
       "      <td>0</td>\n",
       "    </tr>\n",
       "    <tr>\n",
       "      <th>2</th>\n",
       "      <td>2.426167e-05</td>\n",
       "      <td>0.766340</td>\n",
       "      <td>1</td>\n",
       "      <td>4.890151</td>\n",
       "      <td>0</td>\n",
       "    </tr>\n",
       "    <tr>\n",
       "      <th>3</th>\n",
       "      <td>9.452591e-03</td>\n",
       "      <td>0.865864</td>\n",
       "      <td>0</td>\n",
       "      <td>5.102715</td>\n",
       "      <td>0</td>\n",
       "    </tr>\n",
       "    <tr>\n",
       "      <th>4</th>\n",
       "      <td>2.425534e-05</td>\n",
       "      <td>0.803245</td>\n",
       "      <td>1</td>\n",
       "      <td>4.890151</td>\n",
       "      <td>0</td>\n",
       "    </tr>\n",
       "    <tr>\n",
       "      <th>...</th>\n",
       "      <td>...</td>\n",
       "      <td>...</td>\n",
       "      <td>...</td>\n",
       "      <td>...</td>\n",
       "      <td>...</td>\n",
       "    </tr>\n",
       "    <tr>\n",
       "      <th>995</th>\n",
       "      <td>1.662305e-06</td>\n",
       "      <td>0.002708</td>\n",
       "      <td>0</td>\n",
       "      <td>5.160959</td>\n",
       "      <td>2</td>\n",
       "    </tr>\n",
       "    <tr>\n",
       "      <th>996</th>\n",
       "      <td>3.736298e-05</td>\n",
       "      <td>0.001519</td>\n",
       "      <td>0</td>\n",
       "      <td>4.604798</td>\n",
       "      <td>2</td>\n",
       "    </tr>\n",
       "    <tr>\n",
       "      <th>997</th>\n",
       "      <td>2.306636e-08</td>\n",
       "      <td>0.001761</td>\n",
       "      <td>0</td>\n",
       "      <td>5.222533</td>\n",
       "      <td>1</td>\n",
       "    </tr>\n",
       "    <tr>\n",
       "      <th>998</th>\n",
       "      <td>1.111493e-05</td>\n",
       "      <td>0.001190</td>\n",
       "      <td>0</td>\n",
       "      <td>4.857243</td>\n",
       "      <td>2</td>\n",
       "    </tr>\n",
       "    <tr>\n",
       "      <th>999</th>\n",
       "      <td>7.902974e-06</td>\n",
       "      <td>0.000000</td>\n",
       "      <td>0</td>\n",
       "      <td>4.256902</td>\n",
       "      <td>1</td>\n",
       "    </tr>\n",
       "  </tbody>\n",
       "</table>\n",
       "<p>1000 rows × 5 columns</p>\n",
       "</div>"
      ],
      "text/plain": [
       "            price  size_volume_ratio  is_stablecoin  vol_ratio_24h_7d  \\\n",
       "0    9.911229e-01           1.043805              0          5.138800   \n",
       "1    6.852516e-02           0.968187              0          4.816219   \n",
       "2    2.426167e-05           0.766340              1          4.890151   \n",
       "3    9.452591e-03           0.865864              0          5.102715   \n",
       "4    2.425534e-05           0.803245              1          4.890151   \n",
       "..            ...                ...            ...               ...   \n",
       "995  1.662305e-06           0.002708              0          5.160959   \n",
       "996  3.736298e-05           0.001519              0          4.604798   \n",
       "997  2.306636e-08           0.001761              0          5.222533   \n",
       "998  1.111493e-05           0.001190              0          4.857243   \n",
       "999  7.902974e-06           0.000000              0          4.256902   \n",
       "\n",
       "     liquidity_level  \n",
       "0                  0  \n",
       "1                  0  \n",
       "2                  0  \n",
       "3                  0  \n",
       "4                  0  \n",
       "..               ...  \n",
       "995                2  \n",
       "996                2  \n",
       "997                1  \n",
       "998                2  \n",
       "999                1  \n",
       "\n",
       "[1000 rows x 5 columns]"
      ]
     },
     "execution_count": 55,
     "metadata": {},
     "output_type": "execute_result"
    }
   ],
   "source": [
    "X_reduced"
   ]
  },
  {
   "cell_type": "code",
   "execution_count": 56,
   "id": "b5ba4be7-710d-4358-a736-16c5cf9b724c",
   "metadata": {},
   "outputs": [],
   "source": [
    "df = X_reduced.copy()\n"
   ]
  },
  {
   "cell_type": "code",
   "execution_count": 64,
   "id": "9c2d979b-cf0c-4c79-9d4e-4476a2a8523a",
   "metadata": {},
   "outputs": [
    {
     "data": {
      "image/png": "[encoded data removed]",
      "text/plain": [
       "<Figure size 1200x500 with 2 Axes>"
      ]
     },
     "metadata": {},
     "output_type": "display_data"
    }
   ],
   "source": [
    "num_features = df.select_dtypes(include=['float64', 'int64']).columns.tolist()\n",
    "num_features.remove('liquidity_level')  # remove target from feature list\n",
    "\n",
    "# Plot the heatmap\n",
    "plt.figure(figsize=(12, 5))\n",
    "sns.heatmap(df[num_features].corr(), annot=True, cmap=\"YlGnBu\", linewidths=0.5)\n",
    "plt.title(\"Correlation Heatmap of Reduced Numerical Features\", fontsize=16)\n",
    "plt.show()"
   ]
  },
  {
   "cell_type": "code",
   "execution_count": 66,
   "id": "958011f1-e09a-4ef7-8d9d-775c9b1827b8",
   "metadata": {},
   "outputs": [
    {
     "data": {
      "text/plain": [
       "price                0\n",
       "size_volume_ratio    0\n",
       "is_stablecoin        0\n",
       "vol_ratio_24h_7d     0\n",
       "liquidity_level      0\n",
       "dtype: int64"
      ]
     },
     "execution_count": 66,
     "metadata": {},
     "output_type": "execute_result"
    }
   ],
   "source": [
    "df.isna().sum()"
   ]
  },
  {
   "cell_type": "markdown",
   "id": "e00cd3a4-7e4d-4872-8535-2e6bb4340006",
   "metadata": {},
   "source": [
    "Initial Report \n",
    "Measurement Definition: Your liquidity metric may be capturing a specific aspect of liquidity (like slippage for small trades) that behaves differently than traditional liquidity measures.\n",
    "\n",
    "Market Structure Differences: Crypto markets function differently from traditional financial markets. Large-cap cryptos might trade on fewer exchanges or have concentrated ownership.\n",
    "\n",
    "Stablecoin vs. Non-stablecoin Dynamics: Stablecoins often serve specific purposes in the ecosystem and might have distinct liquidity characteristics compared to speculative cryptocurrencies.\n",
    "\n",
    "Data Quality Issues: The pattern could reflect data collection artifacts rather than true market dynamics.\n",
    "\n",
    "Non-linear Relationship: The apparent negative relationship might represent just one segment of a more complex non-linear relationship between market cap and liquidity.\n",
    "\n"
   ]
  },
  {
   "cell_type": "code",
   "execution_count": 67,
   "id": "6e0ae884-6c7d-4466-a071-aed1126fb16e",
   "metadata": {},
   "outputs": [
    {
     "name": "stdout",
     "output_type": "stream",
     "text": [
      "Data type: <class 'pandas.core.series.Series'> int64\n",
      "\n",
      "Value counts:\n",
      "liquidity_level\n",
      "0    340\n",
      "2    330\n",
      "1    330\n",
      "Name: count, dtype: int64\n",
      "\n",
      "Unique values: [np.int64(0), np.int64(1), np.int64(2)]\n"
     ]
    }
   ],
   "source": [
    "# Check current data type and distribution\n",
    "print(\"Data type:\", type(df['liquidity_level']), df['liquidity_level'].dtype)\n",
    "print(\"\\nValue counts:\")\n",
    "print(df['liquidity_level'].value_counts())\n",
    "\n",
    "# For ordered logistic regression, we need numeric values with correct ordering\n",
    "# If it's already numeric, check the mapping. If not, convert it.\n",
    "if df['liquidity_level'].dtype == 'object':\n",
    "    # Create a mapping for ordinal encoding\n",
    "    liquidity_map = {'Low': 0, 'Medium': 1, 'High': 2}\n",
    "    df['liquidity_level_numeric'] = df['liquidity_level'].map(liquidity_map)\n",
    "    print(\"\\nAfter conversion:\")\n",
    "    print(df['liquidity_level_numeric'].value_counts())\n",
    "else:\n",
    "    # If it's already numeric, let's verify the mapping is correct\n",
    "    print(\"\\nUnique values:\", sorted(df['liquidity_level'].unique()))"
   ]
  },
  {
   "cell_type": "markdown",
   "id": "ba067de9-f381-40f2-8399-596fb2db4a61",
   "metadata": {},
   "source": [
    "Investigate the relationship between liquidity and market cap\n",
    "Let's examine the surprising negative relationship between market cap and liquidity that we observed. We should check whether this relationship holds when we control for other factors."
   ]
  },
  {
   "cell_type": "code",
   "execution_count": 69,
   "id": "c7832b0c-64df-4e86-88b4-5f0085c19e92",
   "metadata": {},
   "outputs": [
    {
     "name": "stdout",
     "output_type": "stream",
     "text": [
      "Available columns:\n",
      "['price', 'size_volume_ratio', 'is_stablecoin', 'vol_ratio_24h_7d', 'liquidity_level', 'liquidity_category']\n",
      "\n",
      "Percentage of each liquidity level by stablecoin status:\n",
      "liquidity_category       High        Low    Medium\n",
      "is_stablecoin                                     \n",
      "0                   33.265720  33.265720  33.46856\n",
      "1                   14.285714  85.714286   0.00000\n"
     ]
    },
    {
     "data": {
      "image/png": "[encoded data removed]",
      "text/plain": [
       "<Figure size 1200x500 with 1 Axes>"
      ]
     },
     "metadata": {},
     "output_type": "display_data"
    }
   ],
   "source": [
    "# First, let's check what columns we have available\n",
    "print(\"Available columns:\")\n",
    "print(df.columns.tolist())\n",
    "\n",
    "# Recreate the market cap segmentation\n",
    "# If log_mkt_cap is available:\n",
    "if 'log_mkt_cap' in df.columns:\n",
    "    df['cap_segment'] = pd.qcut(df['log_mkt_cap'], q=[0, 0.25, 0.75, 1], labels=['small', 'mid', 'large'])\n",
    "# If not available but mkt_cap is:\n",
    "elif 'mkt_cap' in df.columns:\n",
    "    df['log_mkt_cap'] = np.log10(df['mkt_cap'] + 1)  # Add 1 to handle zeros\n",
    "    df['cap_segment'] = pd.qcut(df['log_mkt_cap'], q=[0, 0.25, 0.75, 1], labels=['small', 'mid', 'large'])\n",
    "\n",
    "# Create liquidity category for plotting\n",
    "df['liquidity_category'] = df['liquidity_level'].map({0: 'Low', 1: 'Medium', 2: 'High'})\n",
    "\n",
    "# Now try the visualization\n",
    "plt.figure(figsize=(12, 5))\n",
    "\n",
    "# Plot 1: Visualization of liquidity by market cap (if available)\n",
    "if 'cap_segment' in df.columns:\n",
    "    ax1 = plt.subplot(1, 2, 1)\n",
    "    sns.countplot(data=df, x='cap_segment', hue='liquidity_category', ax=ax1)\n",
    "    plt.title('Liquidity Distribution by Market Cap')\n",
    "    plt.xlabel('Market Cap Segment')\n",
    "    plt.ylabel('Count')\n",
    "    \n",
    "    # Calculate percentages\n",
    "    print(\"Percentage of each liquidity level by market cap segment:\")\n",
    "    print(pd.crosstab(df['cap_segment'], df['liquidity_category'], normalize='index') * 100)\n",
    "\n",
    "# Plot 2: Distribution of liquidity levels by stablecoin status\n",
    "if 'is_stablecoin' in df.columns:\n",
    "    ax2 = plt.subplot(1, 2, 2) if 'cap_segment' in df.columns else plt.subplot(1, 1, 1)\n",
    "    sns.countplot(data=df, x='is_stablecoin', hue='liquidity_category', ax=ax2)\n",
    "    plt.title('Liquidity Distribution by Stablecoin Status')\n",
    "    plt.xlabel('Is Stablecoin (0=No, 1=Yes)')\n",
    "    plt.ylabel('Count')\n",
    "    \n",
    "    # Calculate percentages\n",
    "    print(\"\\nPercentage of each liquidity level by stablecoin status:\")\n",
    "    print(pd.crosstab(df['is_stablecoin'], df['liquidity_category'], normalize='index') * 100)\n",
    "\n",
    "plt.tight_layout()\n",
    "plt.show()"
   ]
  },
  {
   "cell_type": "markdown",
   "id": "fe03c303-8dc3-49d9-b6d7-cc6d4b4530a2",
   "metadata": {},
   "source": [
    "This is a significant finding - stablecoins are predominantly in the low liquidity category in your dataset, which could contribute to the counterintuitive relationship we observed between market cap and liquidity.\n",
    "Let's explore this further with a model that takes into account both market cap and stablecoin status. Since your original dataset doesn't have market cap information currently available, let's use a simpler model focusing on the features we do have."
   ]
  },
  {
   "cell_type": "markdown",
   "id": "062538a1-a584-4fd4-8d50-f8372bf26710",
   "metadata": {},
   "source": [
    "# Cryptocurrency Liquidity Analysis: Key Findings\n",
    "\n",
    "## Data Structure & Liquidity Distribution\n",
    "- Liquidity is measured in three discrete levels (0=Low, 1=Medium, 2=High), with a relatively balanced distribution across the dataset\n",
    "- The dataset contains features related to price, volume ratios, and cryptocurrency characteristics\n",
    "\n",
    "## Stablecoin Effect on Liquidity\n",
    "- **Strong negative association between stablecoins and liquidity:**\n",
    "  - 85.71% of stablecoins fall into the low liquidity category\n",
    "  - Only 14.29% of stablecoins have high liquidity\n",
    "  - None of the stablecoins fall into the medium liquidity category\n",
    "- In contrast, non-stablecoins show an almost perfectly balanced distribution across all three liquidity levels\n",
    "\n",
    "## Multicollinearity Resolution\n",
    "- Feature selection process successfully eliminated multicollinearity\n",
    "- Final feature set shows near-zero correlations between predictors:\n",
    "  - Price\n",
    "  - Size-volume ratio\n",
    "  - Stablecoin status\n",
    "  - Volatility ratio (24h to 7d)\n",
    "\n",
    "## Counterintuitive Market Cap-Liquidity Relationship\n",
    "- Initial visualization showed an unexpected negative relationship between market capitalization and liquidity\n",
    "- This contradicts traditional financial theory where larger assets typically have higher liquidity\n",
    "- This relationship might be partially explained by the stablecoin effect, as stablecoins often have large market caps but showed predominantly low liquidity in this dataset\n",
    "\n",
    "## Implications for Cryptocurrency Markets\n",
    "- The cryptocurrency market appears to operate differently from traditional financial markets in terms of liquidity dynamics\n",
    "- Stablecoins have distinct liquidity characteristics that set them apart from other cryptocurrencies\n",
    "- Trading volume alone may not be a complete indicator of a cryptocurrency's market accessibility or trading efficiency\n",
    "\n",
    "This analysis reveals key structural features of the cryptocurrency market that differ from traditional markets, particularly regarding how stablecoins operate within the ecosystem and how market capitalization relates to liquidity."
   ]
  },
  {
   "cell_type": "code",
   "execution_count": 71,
   "id": "f242dddc-e589-4fb8-868b-d09417dc10b4",
   "metadata": {},
   "outputs": [],
   "source": [
    "# Save df to CSV\n",
    "df.to_csv('cleaned_data.csv', index=False)\n"
   ]
  },
  {
   "cell_type": "code",
   "execution_count": null,
   "id": "7a6cdf75-5766-4af1-a489-a143a67e630b",
   "metadata": {},
   "outputs": [],
   "source": []
  }
 ],
 "metadata": {
  "kernelspec": {
   "display_name": "Python 3 (ipykernel)",
   "language": "python",
   "name": "python3"
  },
  "language_info": {
   "codemirror_mode": {
    "name": "ipython",
    "version": 3
   },
   "file_extension": ".py",
   "mimetype": "text/x-python",
   "name": "python",
   "nbconvert_exporter": "python",
   "pygments_lexer": "ipython3",
   "version": "3.10.11"
  }
 },
 "nbformat": 4,
 "nbformat_minor": 5
}
